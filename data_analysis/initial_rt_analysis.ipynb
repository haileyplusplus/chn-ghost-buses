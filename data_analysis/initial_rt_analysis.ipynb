{
 "cells": [
  {
   "cell_type": "markdown",
   "id": "24548ef1",
   "metadata": {},
   "source": [
    "Notebook 6/1/22 -- initial data analysis to aggregate RT data to hourly totals"
   ]
  },
  {
   "cell_type": "code",
   "execution_count": null,
   "id": "a67e21f1",
   "metadata": {},
   "outputs": [],
   "source": [
    "import boto3\n",
    "import json\n",
    "import pandas as pd"
   ]
  },
  {
   "cell_type": "code",
   "execution_count": null,
   "id": "d9043cf3",
   "metadata": {},
   "outputs": [],
   "source": [
    "# get objects from S3\n",
    "# this requires being locally authenticated: https://docs.aws.amazon.com/cli/latest/userguide/cli-configure-files.html\n",
    "\n",
    "s3 = boto3.resource('s3')\n",
    "bucket = s3.Bucket('chn-ghost-buses-private')\n",
    "objects = bucket.objects.all()"
   ]
  },
  {
   "cell_type": "code",
   "execution_count": null,
   "id": "28358cb0",
   "metadata": {},
   "outputs": [],
   "source": [
    "# load data\n",
    "\n",
    "data_dict = {}\n",
    "\n",
    "for obj in objects:\n",
    "    print(f\"loading {obj}\")\n",
    "    obj_name = obj.key\n",
    "    # https://stackoverflow.com/questions/31976273/open-s3-object-as-a-string-with-boto3\n",
    "    obj_body = json.loads(obj.get()['Body'].read().decode('utf-8'))\n",
    "    data_dict[obj_name] = obj_body"
   ]
  },
  {
   "cell_type": "code",
   "execution_count": null,
   "id": "58a19126",
   "metadata": {},
   "outputs": [],
   "source": [
    "# parse data into actual vehicle locations and errors\n",
    "\n",
    "data = pd.DataFrame()\n",
    "errors = pd.DataFrame()\n",
    "\n",
    "# k, v here are filename: full dict of JSON\n",
    "for k, v in data_dict.items():\n",
    "    print(f\"processing {k}\")\n",
    "    filename = k\n",
    "    new_data = pd.DataFrame()\n",
    "    new_errors = pd.DataFrame()\n",
    "    # expect ~12 \"chunks\" per JSON\n",
    "    for chunk, contents in v.items():\n",
    "        if 'vehicle' in v[chunk]['bustime-response'].keys():\n",
    "            new_data = new_data.append(pd.DataFrame(v[chunk]['bustime-response']['vehicle']))\n",
    "        if 'error' in v[chunk]['bustime-response'].keys():\n",
    "            new_errors = new_errors.append(pd.DataFrame(v[chunk]['bustime-response']['error']))\n",
    "    new_data['scrape_file'] = filename\n",
    "    new_errors['scrape_file'] = filename\n",
    "    data = data.append(new_data)\n",
    "    errors = errors.append(new_errors)"
   ]
  },
  {
   "cell_type": "code",
   "execution_count": null,
   "id": "c0c95223",
   "metadata": {},
   "outputs": [],
   "source": [
    "# convert data time to actual datetime\n",
    "data['data_time'] = pd.to_datetime(data['tmstmp'], format='%Y%m%d %H:%M')"
   ]
  },
  {
   "cell_type": "code",
   "execution_count": null,
   "id": "0e0e6556",
   "metadata": {},
   "outputs": [],
   "source": [
    "data['data_hour'] = data.data_time.dt.hour\n",
    "data['data_date'] = data.data_time.dt.date"
   ]
  },
  {
   "cell_type": "code",
   "execution_count": null,
   "id": "1e6bb6af",
   "metadata": {},
   "outputs": [],
   "source": [
    "# combine vids into a set (drops duplicates): https://stackoverflow.com/a/45925961\n",
    "hourly_summary = data.groupby(['data_date', 'data_hour', 'rt'])['vid'].apply(set).reset_index()"
   ]
  },
  {
   "cell_type": "code",
   "execution_count": null,
   "id": "a7d9cd77",
   "metadata": {},
   "outputs": [],
   "source": [
    "# get number of vehicles per hour per route\n",
    "hourly_summary['count'] = hourly_summary['vid'].apply(len)"
   ]
  },
  {
   "cell_type": "code",
   "execution_count": null,
   "id": "3320eaaa",
   "metadata": {},
   "outputs": [],
   "source": [
    "hourly_summary.head()"
   ]
  },
  {
   "cell_type": "code",
   "execution_count": null,
   "id": "29e490a6",
   "metadata": {},
   "outputs": [],
   "source": [
    "hourly_summary.to_csv('realtime_data_summary_20220601.csv', index = False)"
   ]
  },
  {
   "cell_type": "code",
   "execution_count": null,
   "id": "21706de9",
   "metadata": {},
   "outputs": [],
   "source": []
  }
 ],
 "metadata": {
  "kernelspec": {
   "display_name": "base_conda",
   "language": "python",
   "name": "base_conda"
  },
  "language_info": {
   "codemirror_mode": {
    "name": "ipython",
    "version": 3
   },
   "file_extension": ".py",
   "mimetype": "text/x-python",
   "name": "python",
   "nbconvert_exporter": "python",
   "pygments_lexer": "ipython3",
   "version": "3.9.7"
  }
 },
 "nbformat": 4,
 "nbformat_minor": 5
}
