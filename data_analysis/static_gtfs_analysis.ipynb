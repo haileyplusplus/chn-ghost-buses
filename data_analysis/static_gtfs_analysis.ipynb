{
 "cells": [
  {
   "cell_type": "markdown",
   "id": "8ff509f7",
   "metadata": {},
   "source": [
    "# Notebook with GTFS methods\n",
    "\n",
    "Goals: \n",
    "\n",
    "* Make a way to calculate the scheduled number of current active trips given a date, time, and route. \n",
    "    - Take datetime and find what services are active on that date \n",
    "    - Find what trips run on those services + route \n",
    "    - Find which of those trips are \"in progress\" per stop_times\n",
    "* ~Output most common shape by route~"
   ]
  },
  {
   "cell_type": "code",
   "execution_count": 33,
   "id": "9ffac7c3",
   "metadata": {},
   "outputs": [],
   "source": [
    "# imports \n",
    "\n",
    "import boto3\n",
    "import os\n",
    "import pandas as pd\n",
    "import zipfile\n",
    "import requests\n",
    "import pendulum\n",
    "from io import BytesIO\n",
    "import shapely\n",
    "import geopandas"
   ]
  },
  {
   "cell_type": "code",
   "execution_count": 3,
   "id": "b41f5df7",
   "metadata": {},
   "outputs": [],
   "source": [
    "# local \n",
    "# CTA_GTFS = zipfile.ZipFile('cta_gtfs_20220509.zip')\n",
    "# s3\n",
    "# follow https://pythonguides.com/download-zip-file-from-url-using-python/\n",
    "# CTA_GTFS = zipfile.ZipFile(BytesIO(requests.get('https://chn-ghost-buses-public.s3.us-east-2.amazonaws.com/cta_static_gtfs/cta_gtfs_20220509.zip').content))\n",
    "# cta website\n",
    "CTA_GTFS = zipfile.ZipFile(BytesIO(requests.get('https://www.transitchicago.com/downloads/sch_data/google_transit.zip').content))\n"
   ]
  },
  {
   "cell_type": "code",
   "execution_count": 5,
   "id": "60357a61",
   "metadata": {},
   "outputs": [],
   "source": [
    "class GTFSFeed:\n",
    "    def __init__(self, gtfs_zipfile):\n",
    "        self.gtfs_zipfile = gtfs_zipfile\n",
    "        try: \n",
    "            with self.gtfs_zipfile.open('stops.txt') as file:\n",
    "                    self.stops = pd.read_csv(file, dtype = 'object')\n",
    "                    print(\"stops.txt loaded\")\n",
    "            with self.gtfs_zipfile.open('stop_times.txt') as file:\n",
    "                    self.stop_times = pd.read_csv(file, dtype = 'object')\n",
    "                    print(\"stop_times.txt loaded\")\n",
    "            with self.gtfs_zipfile.open('routes.txt') as file:\n",
    "                    self.routes = pd.read_csv(file, dtype = 'object')\n",
    "                    print(\"routes.txt loaded\")\n",
    "            with self.gtfs_zipfile.open('trips.txt') as file:\n",
    "                    self.trips = pd.read_csv(file, dtype = 'object')\n",
    "                    print(\"trips.txt loaded\")\n",
    "        except KeyError as e:\n",
    "            print(\"GTFS is missing required file\")\n",
    "            print(e)\n",
    "        if 'calendar.txt' in self.gtfs_zipfile.namelist():\n",
    "                with self.gtfs_zipfile.open('calendar.txt') as file:\n",
    "                        self.calendar = pd.read_csv(file, dtype = 'object')\n",
    "                        print(\"calendar.txt loaded\")\n",
    "        else:\n",
    "            print(\"no calendar.txt found\")\n",
    "        if 'calendar_dates.txt' in self.gtfs_zipfile.namelist():\n",
    "                with self.gtfs_zipfile.open('calendar_dates.txt') as file:\n",
    "                        self.calendar_dates = pd.read_csv(file, dtype = 'object')\n",
    "                        print(\"calendar_dates.txt loaded\")\n",
    "        else:\n",
    "            print(\"no calendar_dates.txt found\")\n",
    "        if 'shapes.txt' in self.gtfs_zipfile.namelist():\n",
    "                with self.gtfs_zipfile.open('shapes.txt') as file:\n",
    "                        self.shapes = pd.read_csv(file, dtype = 'object')\n",
    "                        print(\"shapes.txt loaded\")\n",
    "        else:\n",
    "            print(\"no shapes.txt found\")\n",
    "            "
   ]
  },
  {
   "cell_type": "code",
   "execution_count": 6,
   "id": "25a4870d",
   "metadata": {},
   "outputs": [
    {
     "name": "stdout",
     "output_type": "stream",
     "text": [
      "stops.txt loaded\n",
      "stop_times.txt loaded\n",
      "routes.txt loaded\n",
      "trips.txt loaded\n",
      "calendar.txt loaded\n",
      "calendar_dates.txt loaded\n",
      "shapes.txt loaded\n"
     ]
    }
   ],
   "source": [
    "data = GTFSFeed(CTA_GTFS)"
   ]
  },
  {
   "cell_type": "markdown",
   "id": "b2c84c30",
   "metadata": {},
   "source": [
    "## Basic data transformations\n",
    "\n",
    "Ex. creating actual timestamps"
   ]
  },
  {
   "cell_type": "code",
   "execution_count": 7,
   "id": "1fafbf57",
   "metadata": {},
   "outputs": [],
   "source": [
    "ex = data.stop_times.head().copy()"
   ]
  },
  {
   "cell_type": "code",
   "execution_count": 8,
   "id": "0c9a54c7",
   "metadata": {},
   "outputs": [
    {
     "data": {
      "text/html": [
       "<div>\n",
       "<style scoped>\n",
       "    .dataframe tbody tr th:only-of-type {\n",
       "        vertical-align: middle;\n",
       "    }\n",
       "\n",
       "    .dataframe tbody tr th {\n",
       "        vertical-align: top;\n",
       "    }\n",
       "\n",
       "    .dataframe thead th {\n",
       "        text-align: right;\n",
       "    }\n",
       "</style>\n",
       "<table border=\"1\" class=\"dataframe\">\n",
       "  <thead>\n",
       "    <tr style=\"text-align: right;\">\n",
       "      <th></th>\n",
       "      <th>trip_id</th>\n",
       "      <th>arrival_time</th>\n",
       "      <th>departure_time</th>\n",
       "      <th>stop_id</th>\n",
       "      <th>stop_sequence</th>\n",
       "      <th>stop_headsign</th>\n",
       "      <th>pickup_type</th>\n",
       "      <th>shape_dist_traveled</th>\n",
       "    </tr>\n",
       "  </thead>\n",
       "  <tbody>\n",
       "    <tr>\n",
       "      <th>0</th>\n",
       "      <td>68227594281</td>\n",
       "      <td>08:34:30</td>\n",
       "      <td>08:34:30</td>\n",
       "      <td>30166</td>\n",
       "      <td>9</td>\n",
       "      <td>Midway</td>\n",
       "      <td>0</td>\n",
       "      <td>55376</td>\n",
       "    </tr>\n",
       "    <tr>\n",
       "      <th>1</th>\n",
       "      <td>68227594281</td>\n",
       "      <td>08:35:00</td>\n",
       "      <td>08:35:00</td>\n",
       "      <td>30031</td>\n",
       "      <td>10</td>\n",
       "      <td>Midway</td>\n",
       "      <td>0</td>\n",
       "      <td>56336</td>\n",
       "    </tr>\n",
       "    <tr>\n",
       "      <th>2</th>\n",
       "      <td>68227594281</td>\n",
       "      <td>08:36:30</td>\n",
       "      <td>08:36:30</td>\n",
       "      <td>30007</td>\n",
       "      <td>11</td>\n",
       "      <td>Midway</td>\n",
       "      <td>0</td>\n",
       "      <td>57514</td>\n",
       "    </tr>\n",
       "    <tr>\n",
       "      <th>3</th>\n",
       "      <td>68227594281</td>\n",
       "      <td>08:38:00</td>\n",
       "      <td>08:38:00</td>\n",
       "      <td>30141</td>\n",
       "      <td>12</td>\n",
       "      <td>Midway</td>\n",
       "      <td>0</td>\n",
       "      <td>58962</td>\n",
       "    </tr>\n",
       "    <tr>\n",
       "      <th>4</th>\n",
       "      <td>68227594281</td>\n",
       "      <td>08:40:30</td>\n",
       "      <td>08:40:30</td>\n",
       "      <td>30074</td>\n",
       "      <td>13</td>\n",
       "      <td>Midway</td>\n",
       "      <td>0</td>\n",
       "      <td>60890</td>\n",
       "    </tr>\n",
       "  </tbody>\n",
       "</table>\n",
       "</div>"
      ],
      "text/plain": [
       "       trip_id arrival_time departure_time stop_id stop_sequence  \\\n",
       "0  68227594281     08:34:30       08:34:30   30166             9   \n",
       "1  68227594281     08:35:00       08:35:00   30031            10   \n",
       "2  68227594281     08:36:30       08:36:30   30007            11   \n",
       "3  68227594281     08:38:00       08:38:00   30141            12   \n",
       "4  68227594281     08:40:30       08:40:30   30074            13   \n",
       "\n",
       "  stop_headsign pickup_type shape_dist_traveled  \n",
       "0        Midway           0               55376  \n",
       "1        Midway           0               56336  \n",
       "2        Midway           0               57514  \n",
       "3        Midway           0               58962  \n",
       "4        Midway           0               60890  "
      ]
     },
     "execution_count": 8,
     "metadata": {},
     "output_type": "execute_result"
    }
   ],
   "source": [
    "ex"
   ]
  },
  {
   "cell_type": "code",
   "execution_count": 9,
   "id": "ab80f4c9",
   "metadata": {},
   "outputs": [],
   "source": [
    "def make_timestamp(s, date = pendulum.now()):\n",
    "    parts = s.split(':')\n",
    "    assert len(parts)==3\n",
    "    if int(parts[0]) > 23:\n",
    "        num_parts = [int(parts[0]) - 24, int(parts[1]), int(parts[2])]\n",
    "    else:\n",
    "        num_parts = [int(parts[0]), int(parts[1]), int(parts[2])]\n",
    "    return pendulum.datetime(year = date.year, month = date.month, day = date.day, hour = num_parts[0], minute = num_parts[1], second = num_parts[2])"
   ]
  },
  {
   "cell_type": "code",
   "execution_count": 10,
   "id": "3fc089bd",
   "metadata": {},
   "outputs": [],
   "source": [
    "ex['arrival_timestamp'] = ex.arrival_time.apply(lambda x: make_timestamp(x))\n",
    "ex['departure_timestamp'] = ex.arrival_time.apply(lambda x: make_timestamp(x))"
   ]
  },
  {
   "cell_type": "code",
   "execution_count": 11,
   "id": "7f40005d",
   "metadata": {},
   "outputs": [
    {
     "data": {
      "text/html": [
       "<div>\n",
       "<style scoped>\n",
       "    .dataframe tbody tr th:only-of-type {\n",
       "        vertical-align: middle;\n",
       "    }\n",
       "\n",
       "    .dataframe tbody tr th {\n",
       "        vertical-align: top;\n",
       "    }\n",
       "\n",
       "    .dataframe thead th {\n",
       "        text-align: right;\n",
       "    }\n",
       "</style>\n",
       "<table border=\"1\" class=\"dataframe\">\n",
       "  <thead>\n",
       "    <tr style=\"text-align: right;\">\n",
       "      <th></th>\n",
       "      <th>trip_id</th>\n",
       "      <th>arrival_time</th>\n",
       "      <th>departure_time</th>\n",
       "      <th>stop_id</th>\n",
       "      <th>stop_sequence</th>\n",
       "      <th>stop_headsign</th>\n",
       "      <th>pickup_type</th>\n",
       "      <th>shape_dist_traveled</th>\n",
       "      <th>arrival_timestamp</th>\n",
       "      <th>departure_timestamp</th>\n",
       "    </tr>\n",
       "  </thead>\n",
       "  <tbody>\n",
       "    <tr>\n",
       "      <th>0</th>\n",
       "      <td>68227594281</td>\n",
       "      <td>08:34:30</td>\n",
       "      <td>08:34:30</td>\n",
       "      <td>30166</td>\n",
       "      <td>9</td>\n",
       "      <td>Midway</td>\n",
       "      <td>0</td>\n",
       "      <td>55376</td>\n",
       "      <td>2022-06-21 08:34:30+00:00</td>\n",
       "      <td>2022-06-21 08:34:30+00:00</td>\n",
       "    </tr>\n",
       "    <tr>\n",
       "      <th>1</th>\n",
       "      <td>68227594281</td>\n",
       "      <td>08:35:00</td>\n",
       "      <td>08:35:00</td>\n",
       "      <td>30031</td>\n",
       "      <td>10</td>\n",
       "      <td>Midway</td>\n",
       "      <td>0</td>\n",
       "      <td>56336</td>\n",
       "      <td>2022-06-21 08:35:00+00:00</td>\n",
       "      <td>2022-06-21 08:35:00+00:00</td>\n",
       "    </tr>\n",
       "    <tr>\n",
       "      <th>2</th>\n",
       "      <td>68227594281</td>\n",
       "      <td>08:36:30</td>\n",
       "      <td>08:36:30</td>\n",
       "      <td>30007</td>\n",
       "      <td>11</td>\n",
       "      <td>Midway</td>\n",
       "      <td>0</td>\n",
       "      <td>57514</td>\n",
       "      <td>2022-06-21 08:36:30+00:00</td>\n",
       "      <td>2022-06-21 08:36:30+00:00</td>\n",
       "    </tr>\n",
       "    <tr>\n",
       "      <th>3</th>\n",
       "      <td>68227594281</td>\n",
       "      <td>08:38:00</td>\n",
       "      <td>08:38:00</td>\n",
       "      <td>30141</td>\n",
       "      <td>12</td>\n",
       "      <td>Midway</td>\n",
       "      <td>0</td>\n",
       "      <td>58962</td>\n",
       "      <td>2022-06-21 08:38:00+00:00</td>\n",
       "      <td>2022-06-21 08:38:00+00:00</td>\n",
       "    </tr>\n",
       "    <tr>\n",
       "      <th>4</th>\n",
       "      <td>68227594281</td>\n",
       "      <td>08:40:30</td>\n",
       "      <td>08:40:30</td>\n",
       "      <td>30074</td>\n",
       "      <td>13</td>\n",
       "      <td>Midway</td>\n",
       "      <td>0</td>\n",
       "      <td>60890</td>\n",
       "      <td>2022-06-21 08:40:30+00:00</td>\n",
       "      <td>2022-06-21 08:40:30+00:00</td>\n",
       "    </tr>\n",
       "  </tbody>\n",
       "</table>\n",
       "</div>"
      ],
      "text/plain": [
       "       trip_id arrival_time departure_time stop_id stop_sequence  \\\n",
       "0  68227594281     08:34:30       08:34:30   30166             9   \n",
       "1  68227594281     08:35:00       08:35:00   30031            10   \n",
       "2  68227594281     08:36:30       08:36:30   30007            11   \n",
       "3  68227594281     08:38:00       08:38:00   30141            12   \n",
       "4  68227594281     08:40:30       08:40:30   30074            13   \n",
       "\n",
       "  stop_headsign pickup_type shape_dist_traveled         arrival_timestamp  \\\n",
       "0        Midway           0               55376 2022-06-21 08:34:30+00:00   \n",
       "1        Midway           0               56336 2022-06-21 08:35:00+00:00   \n",
       "2        Midway           0               57514 2022-06-21 08:36:30+00:00   \n",
       "3        Midway           0               58962 2022-06-21 08:38:00+00:00   \n",
       "4        Midway           0               60890 2022-06-21 08:40:30+00:00   \n",
       "\n",
       "        departure_timestamp  \n",
       "0 2022-06-21 08:34:30+00:00  \n",
       "1 2022-06-21 08:35:00+00:00  \n",
       "2 2022-06-21 08:36:30+00:00  \n",
       "3 2022-06-21 08:38:00+00:00  \n",
       "4 2022-06-21 08:40:30+00:00  "
      ]
     },
     "execution_count": 11,
     "metadata": {},
     "output_type": "execute_result"
    }
   ],
   "source": [
    "ex"
   ]
  },
  {
   "cell_type": "markdown",
   "id": "221fd612",
   "metadata": {},
   "source": [
    "## Most common shape by route"
   ]
  },
  {
   "cell_type": "code",
   "execution_count": 20,
   "id": "ba63340c",
   "metadata": {},
   "outputs": [],
   "source": [
    "# get trip count by route, direction, shape id\n",
    "trips_by_rte_direction = data.trips.groupby(['route_id', 'shape_id', 'direction'])['trip_id'].count().reset_index()"
   ]
  },
  {
   "cell_type": "code",
   "execution_count": 26,
   "id": "7669b6cb",
   "metadata": {},
   "outputs": [],
   "source": [
    "# keep only most common shape id by route, direction\n",
    "# follow: https://stackoverflow.com/a/54041328\n",
    "most_common_shapes = trips_by_rte_direction.sort_values('trip_id').drop_duplicates(['route_id','direction'],keep='last')"
   ]
  },
  {
   "cell_type": "code",
   "execution_count": 27,
   "id": "cb40d8e5",
   "metadata": {},
   "outputs": [],
   "source": [
    "# get additional route attributes\n",
    "most_common_shapes = most_common_shapes.merge(data.routes, how = 'left', on = 'route_id')"
   ]
  },
  {
   "cell_type": "code",
   "execution_count": 45,
   "id": "f7cfd2a4",
   "metadata": {},
   "outputs": [
    {
     "name": "stderr",
     "output_type": "stream",
     "text": [
      "/Users/laurie/opt/anaconda3/lib/python3.9/site-packages/pandas/core/dtypes/cast.py:118: ShapelyDeprecationWarning: The array interface is deprecated and will no longer work in Shapely 2.0. Convert the '.coords' to a numpy array instead.\n",
      "  arr = construct_1d_object_array_from_listlike(values)\n"
     ]
    }
   ],
   "source": [
    "# make shapely points\n",
    "# https://www.geeksforgeeks.org/apply-function-to-every-row-in-a-pandas-dataframe/\n",
    "data.shapes['pt'] = data.shapes.apply(lambda row: shapely.geometry.Point(float(row['shape_pt_lat']), float(row['shape_pt_lon'])), axis = 1)"
   ]
  },
  {
   "cell_type": "code",
   "execution_count": 53,
   "id": "9571f5bd",
   "metadata": {},
   "outputs": [],
   "source": [
    "# construct sorted list of shapely points\n",
    "# custom aggregation function: https://stackoverflow.com/a/10964938\n",
    "\n",
    "def make_list_of_points(sub_df):\n",
    "    sorted_df = sub_df.sort_values(by = 'shape_pt_sequence')\n",
    "    return list(sorted_df['pt'])\n",
    "\n",
    "constructed_shapes = data.shapes.groupby('shape_id').apply(make_list_of_points).reset_index()"
   ]
  },
  {
   "cell_type": "code",
   "execution_count": 54,
   "id": "a3672e73",
   "metadata": {},
   "outputs": [],
   "source": [
    "# merge in the other route attributes\n",
    "final = most_common_shapes.merge(constructed_shapes, how = 'left', on = 'shape_id')"
   ]
  },
  {
   "cell_type": "code",
   "execution_count": 57,
   "id": "cdce59ec",
   "metadata": {},
   "outputs": [],
   "source": [
    "# make a \"geometry\" column for geopandas\n",
    "final['geometry'] = final[0].apply(lambda x: geopandas.tools.collect(x))"
   ]
  },
  {
   "cell_type": "code",
   "execution_count": 60,
   "id": "2cd8fd84",
   "metadata": {},
   "outputs": [],
   "source": [
    "# construct the geopandas geodataframe\n",
    "final_gdf = geopandas.GeoDataFrame(data = final)"
   ]
  },
  {
   "cell_type": "code",
   "execution_count": 67,
   "id": "0ba0db89",
   "metadata": {},
   "outputs": [],
   "source": [
    "# drop the column that's a list of shapely points\n",
    "# otherwise the json serialization complains about the Point geometries\n",
    "final_gdf = final_gdf.drop(0, axis = 1)"
   ]
  },
  {
   "cell_type": "code",
   "execution_count": 69,
   "id": "8fbd55a6",
   "metadata": {},
   "outputs": [],
   "source": [
    "# save to file as geojson\n",
    "with open('route_shapes.geojson', 'w') as f:\n",
    "    f.write(final_gdf.loc[final_gdf['route_type'] == '3'].to_json())"
   ]
  },
  {
   "cell_type": "code",
   "execution_count": null,
   "id": "fc0e4fc6",
   "metadata": {},
   "outputs": [],
   "source": []
  }
 ],
 "metadata": {
  "kernelspec": {
   "display_name": "base_conda",
   "language": "python",
   "name": "base_conda"
  },
  "language_info": {
   "codemirror_mode": {
    "name": "ipython",
    "version": 3
   },
   "file_extension": ".py",
   "mimetype": "text/x-python",
   "name": "python",
   "nbconvert_exporter": "python",
   "pygments_lexer": "ipython3",
   "version": "3.9.7"
  }
 },
 "nbformat": 4,
 "nbformat_minor": 5
}
