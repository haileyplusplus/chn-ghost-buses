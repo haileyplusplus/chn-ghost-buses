{
 "cells": [
  {
   "cell_type": "markdown",
   "id": "8ff509f7",
   "metadata": {},
   "source": [
    "# Notebook with GTFS methods\n",
    "\n",
    "Goals: \n",
    "\n",
    "* Make a way to calculate the scheduled number of current active trips given a date, time, and route. \n",
    "    - Take datetime and find what services are active on that date \n",
    "    - Find what trips run on those services + route \n",
    "    - Find which of those trips are \"in progress\" per stop_times\n",
    "* ~Output most common shape by route~"
   ]
  },
  {
   "cell_type": "code",
   "execution_count": 1,
   "id": "9ffac7c3",
   "metadata": {},
   "outputs": [],
   "source": [
    "# imports \n",
    "\n",
    "import boto3\n",
    "import os\n",
    "import pandas as pd\n",
    "import zipfile\n",
    "import requests\n",
    "import pendulum\n",
    "from io import BytesIO\n",
    "import shapely\n",
    "import geopandas"
   ]
  },
  {
   "cell_type": "code",
   "execution_count": 2,
   "id": "b41f5df7",
   "metadata": {},
   "outputs": [],
   "source": [
    "# local \n",
    "# CTA_GTFS = zipfile.ZipFile('cta_gtfs_20220509.zip')\n",
    "# s3\n",
    "# follow https://pythonguides.com/download-zip-file-from-url-using-python/\n",
    "# CTA_GTFS = zipfile.ZipFile(BytesIO(requests.get('https://chn-ghost-buses-public.s3.us-east-2.amazonaws.com/cta_static_gtfs/cta_gtfs_20220509.zip').content))\n",
    "# cta website\n",
    "CTA_GTFS = zipfile.ZipFile(BytesIO(requests.get('https://www.transitchicago.com/downloads/sch_data/google_transit.zip').content))\n"
   ]
  },
  {
   "cell_type": "code",
   "execution_count": 3,
   "id": "60357a61",
   "metadata": {},
   "outputs": [],
   "source": [
    "class GTFSFeed:\n",
    "    def __init__(self, gtfs_zipfile):\n",
    "        self.gtfs_zipfile = gtfs_zipfile\n",
    "        try: \n",
    "            with self.gtfs_zipfile.open('stops.txt') as file:\n",
    "                    self.stops = pd.read_csv(file, dtype = 'object')\n",
    "                    print(\"stops.txt loaded\")\n",
    "            with self.gtfs_zipfile.open('stop_times.txt') as file:\n",
    "                    self.stop_times = pd.read_csv(file, dtype = 'object')\n",
    "                    print(\"stop_times.txt loaded\")\n",
    "            with self.gtfs_zipfile.open('routes.txt') as file:\n",
    "                    self.routes = pd.read_csv(file, dtype = 'object')\n",
    "                    print(\"routes.txt loaded\")\n",
    "            with self.gtfs_zipfile.open('trips.txt') as file:\n",
    "                    self.trips = pd.read_csv(file, dtype = 'object')\n",
    "                    print(\"trips.txt loaded\")\n",
    "        except KeyError as e:\n",
    "            print(\"GTFS is missing required file\")\n",
    "            print(e)\n",
    "        if 'calendar.txt' in self.gtfs_zipfile.namelist():\n",
    "                with self.gtfs_zipfile.open('calendar.txt') as file:\n",
    "                        self.calendar = pd.read_csv(file, dtype = 'object')\n",
    "                        print(\"calendar.txt loaded\")\n",
    "        else:\n",
    "            print(\"no calendar.txt found\")\n",
    "        if 'calendar_dates.txt' in self.gtfs_zipfile.namelist():\n",
    "                with self.gtfs_zipfile.open('calendar_dates.txt') as file:\n",
    "                        self.calendar_dates = pd.read_csv(file, dtype = 'object')\n",
    "                        print(\"calendar_dates.txt loaded\")\n",
    "        else:\n",
    "            print(\"no calendar_dates.txt found\")\n",
    "        if 'shapes.txt' in self.gtfs_zipfile.namelist():\n",
    "                with self.gtfs_zipfile.open('shapes.txt') as file:\n",
    "                        self.shapes = pd.read_csv(file, dtype = 'object')\n",
    "                        print(\"shapes.txt loaded\")\n",
    "        else:\n",
    "            print(\"no shapes.txt found\")\n",
    "            "
   ]
  },
  {
   "cell_type": "code",
   "execution_count": 4,
   "id": "25a4870d",
   "metadata": {},
   "outputs": [
    {
     "name": "stdout",
     "output_type": "stream",
     "text": [
      "stops.txt loaded\n",
      "stop_times.txt loaded\n",
      "routes.txt loaded\n",
      "trips.txt loaded\n",
      "calendar.txt loaded\n",
      "calendar_dates.txt loaded\n",
      "shapes.txt loaded\n"
     ]
    }
   ],
   "source": [
    "data = GTFSFeed(CTA_GTFS)"
   ]
  },
  {
   "cell_type": "markdown",
   "id": "b2c84c30",
   "metadata": {},
   "source": [
    "## Basic data transformations\n",
    "\n",
    "Ex. creating actual timestamps"
   ]
  },
  {
   "cell_type": "code",
   "execution_count": 5,
   "id": "c80c1328",
   "metadata": {},
   "outputs": [],
   "source": [
    "# def make_timestamp(s, date):\n",
    "#     parts = s.split(':')\n",
    "#     assert len(parts)==3\n",
    "#     if int(parts[0]) > 23:\n",
    "#         num_parts = [int(parts[0]) - 24, int(parts[1]), int(parts[2])]\n",
    "#     else:\n",
    "#         num_parts = [int(parts[0]), int(parts[1]), int(parts[2])]\n",
    "#     return pendulum.datetime(year = date.year, month = date.month, day = date.day, hour = num_parts[0], minute = num_parts[1], second = num_parts[2])\n",
    "        "
   ]
  },
  {
   "cell_type": "code",
   "execution_count": 34,
   "id": "740f84c0",
   "metadata": {},
   "outputs": [],
   "source": [
    "def get_hour(s):\n",
    "    parts = s.split(':')\n",
    "    assert len(parts)==3\n",
    "    hour = int(parts[0])\n",
    "    if hour >= 24:\n",
    "        hour -= 24\n",
    "    return hour"
   ]
  },
  {
   "cell_type": "code",
   "execution_count": 35,
   "id": "ce8ee3de",
   "metadata": {},
   "outputs": [],
   "source": [
    "# convert string dates to actual datetimes in calendar.txt and calendar_dates.txt\n",
    "data.calendar['start_date_dt'] = data.calendar['start_date'].apply(lambda x: pendulum.from_format(x, 'YYYYMMDD'))\n",
    "data.calendar['end_date_dt'] = data.calendar['end_date'].apply(lambda x: pendulum.from_format(x, 'YYYYMMDD'))\n",
    "\n",
    "data.calendar_dates['date_dt'] = data.calendar_dates['date'].apply(lambda x: pendulum.from_format(x, 'YYYYMMDD'))"
   ]
  },
  {
   "cell_type": "code",
   "execution_count": 36,
   "id": "a43200f3",
   "metadata": {},
   "outputs": [],
   "source": [
    "# extract hour from stop_times timestamps \n",
    "data.stop_times['arrival_hour'] = data.stop_times.arrival_time.apply(lambda x: get_hour(x))\n",
    "data.stop_times['departure_hour'] = data.stop_times.departure_time.apply(lambda x: get_hour(x))"
   ]
  },
  {
   "cell_type": "code",
   "execution_count": 37,
   "id": "96410a5f",
   "metadata": {},
   "outputs": [
    {
     "data": {
      "text/html": [
       "<div>\n",
       "<style scoped>\n",
       "    .dataframe tbody tr th:only-of-type {\n",
       "        vertical-align: middle;\n",
       "    }\n",
       "\n",
       "    .dataframe tbody tr th {\n",
       "        vertical-align: top;\n",
       "    }\n",
       "\n",
       "    .dataframe thead th {\n",
       "        text-align: right;\n",
       "    }\n",
       "</style>\n",
       "<table border=\"1\" class=\"dataframe\">\n",
       "  <thead>\n",
       "    <tr style=\"text-align: right;\">\n",
       "      <th></th>\n",
       "      <th>trip_id</th>\n",
       "      <th>arrival_time</th>\n",
       "      <th>departure_time</th>\n",
       "      <th>stop_id</th>\n",
       "      <th>stop_sequence</th>\n",
       "      <th>stop_headsign</th>\n",
       "      <th>pickup_type</th>\n",
       "      <th>shape_dist_traveled</th>\n",
       "      <th>arrival_hour</th>\n",
       "      <th>departure_hour</th>\n",
       "    </tr>\n",
       "  </thead>\n",
       "  <tbody>\n",
       "  </tbody>\n",
       "</table>\n",
       "</div>"
      ],
      "text/plain": [
       "Empty DataFrame\n",
       "Columns: [trip_id, arrival_time, departure_time, stop_id, stop_sequence, stop_headsign, pickup_type, shape_dist_traveled, arrival_hour, departure_hour]\n",
       "Index: []"
      ]
     },
     "execution_count": 37,
     "metadata": {},
     "output_type": "execute_result"
    }
   ],
   "source": [
    "# check that there are no dwell periods that cross hour boundary\n",
    "data.stop_times[data.stop_times.arrival_hour != data.stop_times.departure_hour]"
   ]
  },
  {
   "cell_type": "code",
   "execution_count": 38,
   "id": "b5913ae3",
   "metadata": {},
   "outputs": [],
   "source": [
    "# construct a datetime index that has every day between calendar start and end \n",
    "calendar_date_range = pd.DataFrame(pd.date_range(min(data.calendar.start_date_dt), max(data.calendar.end_date_dt)), columns = ['raw_date'])"
   ]
  },
  {
   "cell_type": "code",
   "execution_count": 39,
   "id": "4c960c5d",
   "metadata": {},
   "outputs": [],
   "source": [
    "# cross join calendar index with actual calendar to get all combos of possible dates & services \n",
    "calendar_cross = calendar_date_range.merge(data.calendar, how = \"cross\")"
   ]
  },
  {
   "cell_type": "code",
   "execution_count": 40,
   "id": "1b61f47f",
   "metadata": {},
   "outputs": [],
   "source": [
    "# extract day of week from date index date\n",
    "calendar_cross['dayofweek'] = calendar_cross['raw_date'].dt.dayofweek"
   ]
  },
  {
   "cell_type": "code",
   "execution_count": 41,
   "id": "4e681dcf",
   "metadata": {},
   "outputs": [],
   "source": [
    "# take wide calendar data (one col per day of week) and make it long (one row per day of week)\n",
    "actual_service = calendar_cross.melt(id_vars = ['raw_date', 'start_date_dt', 'end_date_dt', 'start_date', 'end_date', 'service_id', 'dayofweek'], var_name = 'cal_dayofweek', value_name = 'cal_val')\n"
   ]
  },
  {
   "cell_type": "code",
   "execution_count": 42,
   "id": "7771589d",
   "metadata": {},
   "outputs": [],
   "source": [
    "# map the calendar input strings to day of week integers to align w pandas dayofweek output\n",
    "actual_service['cal_daynum'] = actual_service['cal_dayofweek'].map({\n",
    "    'monday': 0,\n",
    "    'tuesday': 1,\n",
    "    'wednesday': 2,\n",
    "    'thursday': 3,\n",
    "    'friday': 4,\n",
    "    'saturday': 5,\n",
    "    'sunday': 6\n",
    "})"
   ]
  },
  {
   "cell_type": "code",
   "execution_count": 43,
   "id": "25936870",
   "metadata": {},
   "outputs": [],
   "source": [
    "# now check for rows that \"work\"\n",
    "# i.e., the day of week matches between datetime index & calendar input\n",
    "# and the datetime index is between the calendar row's start and end dates\n",
    "actual_service = actual_service[(actual_service.dayofweek == actual_service.cal_daynum) & \n",
    "                               (actual_service.start_date_dt <= actual_service.raw_date) &\n",
    "                               (actual_service.end_date_dt >= actual_service.raw_date)]"
   ]
  },
  {
   "cell_type": "code",
   "execution_count": 44,
   "id": "355db8cd",
   "metadata": {},
   "outputs": [
    {
     "data": {
      "text/html": [
       "<div>\n",
       "<style scoped>\n",
       "    .dataframe tbody tr th:only-of-type {\n",
       "        vertical-align: middle;\n",
       "    }\n",
       "\n",
       "    .dataframe tbody tr th {\n",
       "        vertical-align: top;\n",
       "    }\n",
       "\n",
       "    .dataframe thead th {\n",
       "        text-align: right;\n",
       "    }\n",
       "</style>\n",
       "<table border=\"1\" class=\"dataframe\">\n",
       "  <thead>\n",
       "    <tr style=\"text-align: right;\">\n",
       "      <th></th>\n",
       "      <th>raw_date</th>\n",
       "      <th>start_date_dt</th>\n",
       "      <th>end_date_dt</th>\n",
       "      <th>start_date</th>\n",
       "      <th>end_date</th>\n",
       "      <th>service_id</th>\n",
       "      <th>dayofweek</th>\n",
       "      <th>cal_dayofweek</th>\n",
       "      <th>cal_val</th>\n",
       "      <th>cal_daynum</th>\n",
       "    </tr>\n",
       "  </thead>\n",
       "  <tbody>\n",
       "    <tr>\n",
       "      <th>389</th>\n",
       "      <td>2020-08-03 00:00:00+00:00</td>\n",
       "      <td>2020-08-01 00:00:00+00:00</td>\n",
       "      <td>2022-12-31 00:00:00+00:00</td>\n",
       "      <td>20200801</td>\n",
       "      <td>20221231</td>\n",
       "      <td>BLS-101</td>\n",
       "      <td>0</td>\n",
       "      <td>monday</td>\n",
       "      <td>1</td>\n",
       "      <td>0</td>\n",
       "    </tr>\n",
       "    <tr>\n",
       "      <th>1299</th>\n",
       "      <td>2020-08-10 00:00:00+00:00</td>\n",
       "      <td>2020-08-01 00:00:00+00:00</td>\n",
       "      <td>2022-12-31 00:00:00+00:00</td>\n",
       "      <td>20200801</td>\n",
       "      <td>20221231</td>\n",
       "      <td>BLS-101</td>\n",
       "      <td>0</td>\n",
       "      <td>monday</td>\n",
       "      <td>1</td>\n",
       "      <td>0</td>\n",
       "    </tr>\n",
       "    <tr>\n",
       "      <th>2209</th>\n",
       "      <td>2020-08-17 00:00:00+00:00</td>\n",
       "      <td>2020-08-01 00:00:00+00:00</td>\n",
       "      <td>2022-12-31 00:00:00+00:00</td>\n",
       "      <td>20200801</td>\n",
       "      <td>20221231</td>\n",
       "      <td>BLS-101</td>\n",
       "      <td>0</td>\n",
       "      <td>monday</td>\n",
       "      <td>1</td>\n",
       "      <td>0</td>\n",
       "    </tr>\n",
       "    <tr>\n",
       "      <th>3119</th>\n",
       "      <td>2020-08-24 00:00:00+00:00</td>\n",
       "      <td>2020-08-01 00:00:00+00:00</td>\n",
       "      <td>2022-12-31 00:00:00+00:00</td>\n",
       "      <td>20200801</td>\n",
       "      <td>20221231</td>\n",
       "      <td>BLS-101</td>\n",
       "      <td>0</td>\n",
       "      <td>monday</td>\n",
       "      <td>1</td>\n",
       "      <td>0</td>\n",
       "    </tr>\n",
       "    <tr>\n",
       "      <th>4029</th>\n",
       "      <td>2020-08-31 00:00:00+00:00</td>\n",
       "      <td>2020-08-01 00:00:00+00:00</td>\n",
       "      <td>2022-12-31 00:00:00+00:00</td>\n",
       "      <td>20200801</td>\n",
       "      <td>20221231</td>\n",
       "      <td>BLS-101</td>\n",
       "      <td>0</td>\n",
       "      <td>monday</td>\n",
       "      <td>1</td>\n",
       "      <td>0</td>\n",
       "    </tr>\n",
       "  </tbody>\n",
       "</table>\n",
       "</div>"
      ],
      "text/plain": [
       "                      raw_date             start_date_dt  \\\n",
       "389  2020-08-03 00:00:00+00:00 2020-08-01 00:00:00+00:00   \n",
       "1299 2020-08-10 00:00:00+00:00 2020-08-01 00:00:00+00:00   \n",
       "2209 2020-08-17 00:00:00+00:00 2020-08-01 00:00:00+00:00   \n",
       "3119 2020-08-24 00:00:00+00:00 2020-08-01 00:00:00+00:00   \n",
       "4029 2020-08-31 00:00:00+00:00 2020-08-01 00:00:00+00:00   \n",
       "\n",
       "                   end_date_dt start_date  end_date service_id  dayofweek  \\\n",
       "389  2022-12-31 00:00:00+00:00   20200801  20221231    BLS-101          0   \n",
       "1299 2022-12-31 00:00:00+00:00   20200801  20221231    BLS-101          0   \n",
       "2209 2022-12-31 00:00:00+00:00   20200801  20221231    BLS-101          0   \n",
       "3119 2022-12-31 00:00:00+00:00   20200801  20221231    BLS-101          0   \n",
       "4029 2022-12-31 00:00:00+00:00   20200801  20221231    BLS-101          0   \n",
       "\n",
       "     cal_dayofweek cal_val  cal_daynum  \n",
       "389         monday       1           0  \n",
       "1299        monday       1           0  \n",
       "2209        monday       1           0  \n",
       "3119        monday       1           0  \n",
       "4029        monday       1           0  "
      ]
     },
     "execution_count": 44,
     "metadata": {},
     "output_type": "execute_result"
    }
   ],
   "source": [
    "actual_service.head()"
   ]
  },
  {
   "cell_type": "code",
   "execution_count": 45,
   "id": "35fce10d",
   "metadata": {},
   "outputs": [],
   "source": [
    "# now merge in calendar dates to the datetime index to get overrides\n",
    "actual_service = actual_service.merge(data.calendar_dates, how = 'outer', left_on = ['raw_date', 'service_id'], right_on = ['date_dt', 'service_id'])"
   ]
  },
  {
   "cell_type": "code",
   "execution_count": 46,
   "id": "c94e4c6f",
   "metadata": {},
   "outputs": [],
   "source": [
    "# now add a service happened flag for dates where the schedule indicates that this service occurred\n",
    "# i.e.: calendar has a service indicator of 1 and there's no exception type from calendar_dates\n",
    "# OR calendar_dates has exception type of 1\n",
    "# otherwise no service \n",
    "# https://stackoverflow.com/questions/21415661/logical-operators-for-boolean-indexing-in-pandas\n",
    "actual_service['service_happened'] = ((actual_service['cal_val'] == '1') & \n",
    "                                      actual_service['exception_type'].isnull()) | (actual_service['exception_type'] == '1')"
   ]
  },
  {
   "cell_type": "code",
   "execution_count": 47,
   "id": "bc7c3ad1",
   "metadata": {},
   "outputs": [],
   "source": [
    "# now fill in rows where calendar_dates had a date outside the bounds of the datetime index, so raw_date is always populated\n",
    "actual_service['raw_date'] = actual_service['raw_date'].fillna(actual_service['date_dt'])"
   ]
  },
  {
   "cell_type": "code",
   "execution_count": 48,
   "id": "b067ecdc",
   "metadata": {},
   "outputs": [],
   "source": [
    "# filter to only rows where service occurred\n",
    "service_happened = actual_service[actual_service.service_happened]"
   ]
  },
  {
   "cell_type": "code",
   "execution_count": 49,
   "id": "3003f154",
   "metadata": {},
   "outputs": [],
   "source": [
    "# join trips to only service that occurred\n",
    "trips_happened = data.trips.merge(service_happened, how = 'left', on = 'service_id')"
   ]
  },
  {
   "cell_type": "code",
   "execution_count": 50,
   "id": "f58c2d77",
   "metadata": {},
   "outputs": [],
   "source": [
    "# get only the trip / hour combos that actually occurred\n",
    "trip_stop_hours = data.stop_times[['trip_id', 'arrival_hour']].drop_duplicates()"
   ]
  },
  {
   "cell_type": "code",
   "execution_count": 51,
   "id": "e03d78c9",
   "metadata": {},
   "outputs": [],
   "source": [
    "# now join\n",
    "# result has one row per date + row from trips.txt (incl. route) + hour\n",
    "trip_summary = trips_happened.merge(trip_stop_hours, how = \"left\", on = \"trip_id\")"
   ]
  },
  {
   "cell_type": "code",
   "execution_count": 52,
   "id": "bb947dfc",
   "metadata": {},
   "outputs": [
    {
     "data": {
      "text/html": [
       "<div>\n",
       "<style scoped>\n",
       "    .dataframe tbody tr th:only-of-type {\n",
       "        vertical-align: middle;\n",
       "    }\n",
       "\n",
       "    .dataframe tbody tr th {\n",
       "        vertical-align: top;\n",
       "    }\n",
       "\n",
       "    .dataframe thead th {\n",
       "        text-align: right;\n",
       "    }\n",
       "</style>\n",
       "<table border=\"1\" class=\"dataframe\">\n",
       "  <thead>\n",
       "    <tr style=\"text-align: right;\">\n",
       "      <th></th>\n",
       "      <th>route_id</th>\n",
       "      <th>service_id</th>\n",
       "      <th>trip_id</th>\n",
       "      <th>direction_id</th>\n",
       "      <th>block_id</th>\n",
       "      <th>shape_id</th>\n",
       "      <th>direction</th>\n",
       "      <th>wheelchair_accessible</th>\n",
       "      <th>schd_trip_id</th>\n",
       "      <th>raw_date</th>\n",
       "      <th>...</th>\n",
       "      <th>end_date</th>\n",
       "      <th>dayofweek</th>\n",
       "      <th>cal_dayofweek</th>\n",
       "      <th>cal_val</th>\n",
       "      <th>cal_daynum</th>\n",
       "      <th>date</th>\n",
       "      <th>exception_type</th>\n",
       "      <th>date_dt</th>\n",
       "      <th>service_happened</th>\n",
       "      <th>arrival_hour</th>\n",
       "    </tr>\n",
       "  </thead>\n",
       "  <tbody>\n",
       "    <tr>\n",
       "      <th>0</th>\n",
       "      <td>1</td>\n",
       "      <td>64701</td>\n",
       "      <td>6470000998020</td>\n",
       "      <td>1</td>\n",
       "      <td>647000001506</td>\n",
       "      <td>64708085</td>\n",
       "      <td>North</td>\n",
       "      <td>1</td>\n",
       "      <td>998020</td>\n",
       "      <td>2022-06-06 00:00:00+00:00</td>\n",
       "      <td>...</td>\n",
       "      <td>20220611</td>\n",
       "      <td>0.0</td>\n",
       "      <td>monday</td>\n",
       "      <td>1</td>\n",
       "      <td>0.0</td>\n",
       "      <td>NaN</td>\n",
       "      <td>NaN</td>\n",
       "      <td>NaT</td>\n",
       "      <td>True</td>\n",
       "      <td>8</td>\n",
       "    </tr>\n",
       "    <tr>\n",
       "      <th>1</th>\n",
       "      <td>1</td>\n",
       "      <td>64701</td>\n",
       "      <td>6470000998020</td>\n",
       "      <td>1</td>\n",
       "      <td>647000001506</td>\n",
       "      <td>64708085</td>\n",
       "      <td>North</td>\n",
       "      <td>1</td>\n",
       "      <td>998020</td>\n",
       "      <td>2022-06-07 00:00:00+00:00</td>\n",
       "      <td>...</td>\n",
       "      <td>20220611</td>\n",
       "      <td>1.0</td>\n",
       "      <td>tuesday</td>\n",
       "      <td>1</td>\n",
       "      <td>1.0</td>\n",
       "      <td>NaN</td>\n",
       "      <td>NaN</td>\n",
       "      <td>NaT</td>\n",
       "      <td>True</td>\n",
       "      <td>8</td>\n",
       "    </tr>\n",
       "    <tr>\n",
       "      <th>2</th>\n",
       "      <td>1</td>\n",
       "      <td>64701</td>\n",
       "      <td>6470000998020</td>\n",
       "      <td>1</td>\n",
       "      <td>647000001506</td>\n",
       "      <td>64708085</td>\n",
       "      <td>North</td>\n",
       "      <td>1</td>\n",
       "      <td>998020</td>\n",
       "      <td>2022-06-08 00:00:00+00:00</td>\n",
       "      <td>...</td>\n",
       "      <td>20220611</td>\n",
       "      <td>2.0</td>\n",
       "      <td>wednesday</td>\n",
       "      <td>1</td>\n",
       "      <td>2.0</td>\n",
       "      <td>NaN</td>\n",
       "      <td>NaN</td>\n",
       "      <td>NaT</td>\n",
       "      <td>True</td>\n",
       "      <td>8</td>\n",
       "    </tr>\n",
       "    <tr>\n",
       "      <th>3</th>\n",
       "      <td>1</td>\n",
       "      <td>64701</td>\n",
       "      <td>6470000998020</td>\n",
       "      <td>1</td>\n",
       "      <td>647000001506</td>\n",
       "      <td>64708085</td>\n",
       "      <td>North</td>\n",
       "      <td>1</td>\n",
       "      <td>998020</td>\n",
       "      <td>2022-06-09 00:00:00+00:00</td>\n",
       "      <td>...</td>\n",
       "      <td>20220611</td>\n",
       "      <td>3.0</td>\n",
       "      <td>thursday</td>\n",
       "      <td>1</td>\n",
       "      <td>3.0</td>\n",
       "      <td>NaN</td>\n",
       "      <td>NaN</td>\n",
       "      <td>NaT</td>\n",
       "      <td>True</td>\n",
       "      <td>8</td>\n",
       "    </tr>\n",
       "    <tr>\n",
       "      <th>4</th>\n",
       "      <td>1</td>\n",
       "      <td>64701</td>\n",
       "      <td>6470000998020</td>\n",
       "      <td>1</td>\n",
       "      <td>647000001506</td>\n",
       "      <td>64708085</td>\n",
       "      <td>North</td>\n",
       "      <td>1</td>\n",
       "      <td>998020</td>\n",
       "      <td>2022-06-10 00:00:00+00:00</td>\n",
       "      <td>...</td>\n",
       "      <td>20220611</td>\n",
       "      <td>4.0</td>\n",
       "      <td>friday</td>\n",
       "      <td>1</td>\n",
       "      <td>4.0</td>\n",
       "      <td>NaN</td>\n",
       "      <td>NaN</td>\n",
       "      <td>NaT</td>\n",
       "      <td>True</td>\n",
       "      <td>8</td>\n",
       "    </tr>\n",
       "  </tbody>\n",
       "</table>\n",
       "<p>5 rows × 23 columns</p>\n",
       "</div>"
      ],
      "text/plain": [
       "  route_id service_id        trip_id direction_id      block_id  shape_id  \\\n",
       "0        1      64701  6470000998020            1  647000001506  64708085   \n",
       "1        1      64701  6470000998020            1  647000001506  64708085   \n",
       "2        1      64701  6470000998020            1  647000001506  64708085   \n",
       "3        1      64701  6470000998020            1  647000001506  64708085   \n",
       "4        1      64701  6470000998020            1  647000001506  64708085   \n",
       "\n",
       "  direction wheelchair_accessible schd_trip_id                  raw_date  ...  \\\n",
       "0     North                     1       998020 2022-06-06 00:00:00+00:00  ...   \n",
       "1     North                     1       998020 2022-06-07 00:00:00+00:00  ...   \n",
       "2     North                     1       998020 2022-06-08 00:00:00+00:00  ...   \n",
       "3     North                     1       998020 2022-06-09 00:00:00+00:00  ...   \n",
       "4     North                     1       998020 2022-06-10 00:00:00+00:00  ...   \n",
       "\n",
       "   end_date dayofweek cal_dayofweek cal_val  cal_daynum date exception_type  \\\n",
       "0  20220611       0.0        monday       1         0.0  NaN            NaN   \n",
       "1  20220611       1.0       tuesday       1         1.0  NaN            NaN   \n",
       "2  20220611       2.0     wednesday       1         2.0  NaN            NaN   \n",
       "3  20220611       3.0      thursday       1         3.0  NaN            NaN   \n",
       "4  20220611       4.0        friday       1         4.0  NaN            NaN   \n",
       "\n",
       "   date_dt service_happened arrival_hour  \n",
       "0      NaT             True            8  \n",
       "1      NaT             True            8  \n",
       "2      NaT             True            8  \n",
       "3      NaT             True            8  \n",
       "4      NaT             True            8  \n",
       "\n",
       "[5 rows x 23 columns]"
      ]
     },
     "execution_count": 52,
     "metadata": {},
     "output_type": "execute_result"
    }
   ],
   "source": [
    "trip_summary.head()"
   ]
  },
  {
   "cell_type": "code",
   "execution_count": 57,
   "id": "d812de6d",
   "metadata": {},
   "outputs": [],
   "source": [
    "# now group to get trips by hour by date by route\n",
    "route_daily_hourly_summary = trip_summary.groupby(by = ['raw_date', 'route_id', 'arrival_hour'])['trip_id'].count().reset_index()"
   ]
  },
  {
   "cell_type": "code",
   "execution_count": 60,
   "id": "ae71821e",
   "metadata": {},
   "outputs": [],
   "source": [
    "route_daily_hourly_summary.rename(columns = {'arrival_hour': 'hour', 'trip_id': 'trip_count', 'raw_date': 'date'}, inplace = True)\n",
    "route_daily_hourly_summary.date = route_daily_hourly_summary.date.dt.date\n",
    "route_daily_hourly_summary.to_csv('route_daily_hourly_summary.csv', index = False)"
   ]
  },
  {
   "cell_type": "markdown",
   "id": "221fd612",
   "metadata": {},
   "source": [
    "## Most common shape by route"
   ]
  },
  {
   "cell_type": "code",
   "execution_count": null,
   "id": "ba63340c",
   "metadata": {},
   "outputs": [],
   "source": [
    "# get trip count by route, direction, shape id\n",
    "trips_by_rte_direction = data.trips.groupby(['route_id', 'shape_id', 'direction'])['trip_id'].count().reset_index()"
   ]
  },
  {
   "cell_type": "code",
   "execution_count": null,
   "id": "7669b6cb",
   "metadata": {},
   "outputs": [],
   "source": [
    "# keep only most common shape id by route, direction\n",
    "# follow: https://stackoverflow.com/a/54041328\n",
    "most_common_shapes = trips_by_rte_direction.sort_values('trip_id').drop_duplicates(['route_id','direction'],keep='last')"
   ]
  },
  {
   "cell_type": "code",
   "execution_count": null,
   "id": "cb40d8e5",
   "metadata": {},
   "outputs": [],
   "source": [
    "# get additional route attributes\n",
    "most_common_shapes = most_common_shapes.merge(data.routes, how = 'left', on = 'route_id')"
   ]
  },
  {
   "cell_type": "code",
   "execution_count": null,
   "id": "f7cfd2a4",
   "metadata": {},
   "outputs": [],
   "source": [
    "# make shapely points\n",
    "# https://www.geeksforgeeks.org/apply-function-to-every-row-in-a-pandas-dataframe/\n",
    "data.shapes['pt'] = data.shapes.apply(lambda row: shapely.geometry.Point((float(row['shape_pt_lon']), float(row['shape_pt_lat']))), axis = 1)"
   ]
  },
  {
   "cell_type": "code",
   "execution_count": null,
   "id": "f77b9d1d",
   "metadata": {},
   "outputs": [],
   "source": [
    "data.shapes['shape_pt_sequence'] = pd.to_numeric(data.shapes['shape_pt_sequence'])"
   ]
  },
  {
   "cell_type": "code",
   "execution_count": null,
   "id": "9571f5bd",
   "metadata": {},
   "outputs": [],
   "source": [
    "# construct sorted list of shapely points\n",
    "# custom aggregation function: https://stackoverflow.com/a/10964938\n",
    "\n",
    "def make_linestring_of_points(sub_df):\n",
    "    sorted_df = sub_df.sort_values(by = 'shape_pt_sequence')\n",
    "    return shapely.geometry.LineString(list(sorted_df['pt']))\n",
    "\n",
    "constructed_shapes = data.shapes.groupby('shape_id').apply(make_linestring_of_points).reset_index()"
   ]
  },
  {
   "cell_type": "code",
   "execution_count": null,
   "id": "a3672e73",
   "metadata": {},
   "outputs": [],
   "source": [
    "# merge in the other route attributes\n",
    "final = most_common_shapes.merge(constructed_shapes, how = 'left', on = 'shape_id')"
   ]
  },
  {
   "cell_type": "code",
   "execution_count": null,
   "id": "cdce59ec",
   "metadata": {},
   "outputs": [],
   "source": [
    "# make a \"geometry\" column for geopandas\n",
    "final['geometry'] = final[0]"
   ]
  },
  {
   "cell_type": "code",
   "execution_count": null,
   "id": "2cd8fd84",
   "metadata": {},
   "outputs": [],
   "source": [
    "# construct the geopandas geodataframe\n",
    "final_gdf = geopandas.GeoDataFrame(data = final)"
   ]
  },
  {
   "cell_type": "code",
   "execution_count": null,
   "id": "0ba0db89",
   "metadata": {},
   "outputs": [],
   "source": [
    "# drop the column that's a list of shapely points\n",
    "final_gdf = final_gdf.drop(0, axis = 1)"
   ]
  },
  {
   "cell_type": "code",
   "execution_count": null,
   "id": "80a09727",
   "metadata": {},
   "outputs": [],
   "source": [
    "# https://gis.stackexchange.com/questions/11910/meaning-of-simplifys-tolerance-parameter\n",
    "final_gdf['geometry'] = final_gdf['geometry'].simplify(.0001)"
   ]
  },
  {
   "cell_type": "code",
   "execution_count": null,
   "id": "8fbd55a6",
   "metadata": {},
   "outputs": [],
   "source": [
    "# save to file as geojson\n",
    "with open('route_shapes_simplified_linestring.geojson', 'w') as f:\n",
    "    f.write(final_gdf.loc[(final_gdf['route_type'] == '3')].to_json())"
   ]
  },
  {
   "cell_type": "code",
   "execution_count": null,
   "id": "fc0e4fc6",
   "metadata": {},
   "outputs": [],
   "source": []
  }
 ],
 "metadata": {
  "kernelspec": {
   "display_name": "base_conda",
   "language": "python",
   "name": "base_conda"
  },
  "language_info": {
   "codemirror_mode": {
    "name": "ipython",
    "version": 3
   },
   "file_extension": ".py",
   "mimetype": "text/x-python",
   "name": "python",
   "nbconvert_exporter": "python",
   "pygments_lexer": "ipython3",
   "version": "3.9.7"
  }
 },
 "nbformat": 4,
 "nbformat_minor": 5
}
